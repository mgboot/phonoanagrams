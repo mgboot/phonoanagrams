{
 "cells": [
  {
   "cell_type": "code",
   "execution_count": 206,
   "metadata": {},
   "outputs": [],
   "source": [
    "import requests\n",
    "import re"
   ]
  },
  {
   "cell_type": "code",
   "execution_count": 209,
   "metadata": {},
   "outputs": [],
   "source": [
    "# get the full text of Carnegie Mellon Pronouncing Dictionary\n",
    "\n",
    "url = \"http://svn.code.sf.net/p/cmusphinx/code/trunk/cmudict/cmudict-0.7b\"\n",
    "f = requests.get(url)\n",
    "d = f.text\n",
    "\n",
    "# get rid of introduction\n",
    "d = d.split(\"\\n\")[56:]"
   ]
  },
  {
   "cell_type": "code",
   "execution_count": 210,
   "metadata": {},
   "outputs": [],
   "source": [
    "# create a dict with words as keys and pronunciations (as lists of phoneme strings) as values\n",
    "\n",
    "pron_dict = {}\n",
    "\n",
    "for entry in d:\n",
    "    e = re.split(\" +\", entry)\n",
    "    word = e[0]\n",
    "    phonemes = [x[:2] for x in e[1:]] # x[:2] and not x in order to snip off Arpabet stress numbers (e.g. \"AE1\")\n",
    "    pron_dict[word] = phonemes\n",
    "    \n",
    "def are_homophones(a, b):\n",
    "    # a function to help us recognize homophones (e.g. RODE and ROAD), which might be useful later\n",
    "    return pron_dict[a] == pron_dict[b]"
   ]
  },
  {
   "cell_type": "code",
   "execution_count": 211,
   "metadata": {},
   "outputs": [],
   "source": [
    "# create a new version of pron_dict where the phoneme lists making up the values are sorted.\n",
    "# this means that keys which are phonoanagrams of each other (e.g. DESK, DECKS) will have the same values.\n",
    "\n",
    "pron_dict_sorted = {}\n",
    "\n",
    "for word in pron_dict:\n",
    "    pron_dict_sorted[word] = sorted(pron_dict[word])"
   ]
  },
  {
   "cell_type": "code",
   "execution_count": 212,
   "metadata": {},
   "outputs": [],
   "source": [
    "# finally, create a dict with the sorted phoneme lists (converted to strings) as keys,\n",
    "# and lists of words that have those phoneme sets as values.\n",
    "\n",
    "phoneme_keys = {}\n",
    "\n",
    "for word in pron_dict_sorted:\n",
    "    pron = \" \".join(pron_dict_sorted[word])\n",
    "    if pron not in phoneme_keys:\n",
    "        phoneme_keys[pron] = []\n",
    "    phoneme_keys[pron].append(word)"
   ]
  },
  {
   "cell_type": "code",
   "execution_count": 213,
   "metadata": {},
   "outputs": [],
   "source": [
    "def find_phonoanagrams(raw_word):\n",
    "    \"\"\" Inputs any word in the CMU dict and returns its phonoanagrams. \"\"\"\n",
    "    word = raw_word.upper()\n",
    "    \n",
    "    try:\n",
    "        phonemes_sorted = pron_dict_sorted[word]\n",
    "    except KeyError:\n",
    "        print(\"Unfortunately,\", raw_word, \"is not an entry in CMUDict.\")\n",
    "        return None\n",
    "    \n",
    "    phonemes_sorted = \" \".join(phonemes_sorted)\n",
    "    phonoanagrams = phoneme_keys[phonemes_sorted]\n",
    "    results = [x for x in phonoanagrams if not are_homophones(word, x)]\n",
    "    \n",
    "    return results\n",
    "\n",
    "def print_phonoanagrams(raw_word):\n",
    "    results = find_phonoanagrams(raw_word)\n",
    "    \n",
    "    word = raw_word.upper()\n",
    "    phonemes_sorted = pron_dict_sorted[word]\n",
    "    phonemes_sorted = \" \".join(phonemes_sorted)\n",
    "    \n",
    "    print(\"Sorted phonemes for\", word, \":\", phonemes_sorted)\n",
    "    \n",
    "    n = len(results)\n",
    "    if n == 0:\n",
    "        print(\"Found zero phonoanagrams.\")\n",
    "    else:\n",
    "        if n == 1:\n",
    "            print(\"Found one phonoanagram:\")\n",
    "        else:\n",
    "            print(\"Found\", n, \"phonoanagrams:\")\n",
    "        for wd in results:\n",
    "            print(wd)\n",
    "    \n",
    "    return None"
   ]
  },
  {
   "cell_type": "code",
   "execution_count": 239,
   "metadata": {},
   "outputs": [
    {
     "name": "stdout",
     "output_type": "stream",
     "text": [
      "Sorted phonemes for SOLAR : ER L OW S\n",
      "Found one phonoanagram:\n",
      "SLOWER\n"
     ]
    }
   ],
   "source": [
    "# type the word in here for which you want to find phonoanagrams:\n",
    "\n",
    "print_phonoanagrams('solar')"
   ]
  },
  {
   "cell_type": "code",
   "execution_count": 218,
   "metadata": {},
   "outputs": [
    {
     "data": {
      "image/png": "[encoded data removed]",
      "text/plain": [
       "<Figure size 432x288 with 1 Axes>"
      ]
     },
     "metadata": {
      "needs_background": "light"
     },
     "output_type": "display_data"
    }
   ],
   "source": [
    "# to plot out word counts for every \"word length in phonemes\" x \"phonoanagram count per word\" combination:\n",
    "\n",
    "import numpy as np\n",
    "import matplotlib.pyplot as plt\n",
    "\n",
    "# create 2-D array, mapping word length (in phonemes) vs. count of phonoanagrams yielded by word.\n",
    "\n",
    "lengths = [len(x) for x in pron_dict.values()]\n",
    "ph_counts = [len(find_phonoanagrams(x)) for x in pron_dict.keys()]\n",
    "\n",
    "x = np.full((32, 20), 0.001, dtype=float)\n",
    "\n",
    "for i in range(len(lengths)):\n",
    "    row = lengths[i] - 1\n",
    "    col = ph_counts[i]\n",
    "    x[row][col] += 1\n",
    "    \n",
    "x = np.log(x) # optional: taking the log of the word counts will make the results more visible qualitatively\n",
    "\n",
    "# create plot\n",
    "\n",
    "fig, ax = plt.subplots()\n",
    "ax.set_xlabel('how many phonoanagrams does word have?')\n",
    "ax.set_ylabel('word length in phonemes')\n",
    "\n",
    "plt.imshow(x, cmap='hot', interpolation='nearest')\n",
    "plt.gca().invert_yaxis()"
   ]
  }
 ],
 "metadata": {
  "kernelspec": {
   "display_name": "Python 3",
   "language": "python",
   "name": "python3"
  },
  "language_info": {
   "codemirror_mode": {
    "name": "ipython",
    "version": 3
   },
   "file_extension": ".py",
   "mimetype": "text/x-python",
   "name": "python",
   "nbconvert_exporter": "python",
   "pygments_lexer": "ipython3",
   "version": "3.7.4"
  }
 },
 "nbformat": 4,
 "nbformat_minor": 2
}
